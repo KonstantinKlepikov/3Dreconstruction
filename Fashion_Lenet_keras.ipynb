{
  "nbformat": 4,
  "nbformat_minor": 0,
  "metadata": {
    "colab": {
      "name": "Fashion_Lenet_keras.ipynb",
      "version": "0.3.2",
      "provenance": [],
      "include_colab_link": true
    },
    "kernelspec": {
      "name": "python3",
      "display_name": "Python 3"
    },
    "accelerator": "GPU"
  },
  "cells": [
    {
      "cell_type": "markdown",
      "metadata": {
        "id": "view-in-github",
        "colab_type": "text"
      },
      "source": [
        "<a href=\"https://colab.research.google.com/github/KonstantinKlepikov/3Dreconstruction/blob/master/Fashion_Lenet_keras.ipynb\" target=\"_parent\"><img src=\"https://colab.research.google.com/assets/colab-badge.svg\" alt=\"Open In Colab\"/></a>"
      ]
    },
    {
      "metadata": {
        "id": "KOdPjrs-cUqK",
        "colab_type": "text"
      },
      "cell_type": "markdown",
      "source": [
        "Проверка работы драйверов GPU.  \n",
        "Чтобы всё работало, нужно в  Runtime->Change Runtime Type выбрать GPU"
      ]
    },
    {
      "metadata": {
        "id": "EGNyYLSgaRp8",
        "colab_type": "code",
        "outputId": "b502add5-982e-4002-a160-1c30c3c87bd1",
        "colab": {
          "base_uri": "https://localhost:8080/",
          "height": 321
        }
      },
      "cell_type": "code",
      "source": [
        "!nvidia-smi"
      ],
      "execution_count": 0,
      "outputs": [
        {
          "output_type": "stream",
          "text": [
            "Sat Mar 30 13:04:14 2019       \n",
            "+-----------------------------------------------------------------------------+\n",
            "| NVIDIA-SMI 418.56       Driver Version: 410.79       CUDA Version: 10.0     |\n",
            "|-------------------------------+----------------------+----------------------+\n",
            "| GPU  Name        Persistence-M| Bus-Id        Disp.A | Volatile Uncorr. ECC |\n",
            "| Fan  Temp  Perf  Pwr:Usage/Cap|         Memory-Usage | GPU-Util  Compute M. |\n",
            "|===============================+======================+======================|\n",
            "|   0  Tesla K80           Off  | 00000000:00:04.0 Off |                    0 |\n",
            "| N/A   31C    P8    28W / 149W |      0MiB / 11441MiB |      0%      Default |\n",
            "+-------------------------------+----------------------+----------------------+\n",
            "                                                                               \n",
            "+-----------------------------------------------------------------------------+\n",
            "| Processes:                                                       GPU Memory |\n",
            "|  GPU       PID   Type   Process name                             Usage      |\n",
            "|=============================================================================|\n",
            "|  No running processes found                                                 |\n",
            "+-----------------------------------------------------------------------------+\n"
          ],
          "name": "stdout"
        }
      ]
    },
    {
      "metadata": {
        "id": "628YcVUbc2P-",
        "colab_type": "text"
      },
      "cell_type": "markdown",
      "source": [
        "Подключение библиотек"
      ]
    },
    {
      "metadata": {
        "id": "JT7mys6Waf7V",
        "colab_type": "code",
        "outputId": "e9a55f65-f8f5-4a5c-8793-8a8641e5cea4",
        "colab": {
          "base_uri": "https://localhost:8080/",
          "height": 35
        }
      },
      "cell_type": "code",
      "source": [
        "import numpy as np\n",
        "import cv2\n",
        "\n",
        "import sys\n",
        "import os\n",
        "\n",
        "import keras"
      ],
      "execution_count": 0,
      "outputs": [
        {
          "output_type": "stream",
          "text": [
            "Using TensorFlow backend.\n"
          ],
          "name": "stderr"
        }
      ]
    },
    {
      "metadata": {
        "id": "twJD1iXQc9nD",
        "colab_type": "text"
      },
      "cell_type": "markdown",
      "source": [
        "В keras довольно много своих модельных наборов данных.  \n",
        "Мы возьмем FashionMNIST - набор данных от Zalando с 10 классами разного вида одежды."
      ]
    },
    {
      "metadata": {
        "id": "lW4XYKlGcz7O",
        "colab_type": "code",
        "outputId": "0958a8e4-fc63-4c52-aa9a-5ea812a1c06e",
        "colab": {
          "base_uri": "https://localhost:8080/",
          "height": 160
        }
      },
      "cell_type": "code",
      "source": [
        "\n",
        "from keras.datasets import fashion_mnist\n",
        "(x_train, y_train), (x_test, y_test) = fashion_mnist.load_data()\n"
      ],
      "execution_count": 0,
      "outputs": [
        {
          "output_type": "stream",
          "text": [
            "Downloading data from http://fashion-mnist.s3-website.eu-central-1.amazonaws.com/train-labels-idx1-ubyte.gz\n",
            "32768/29515 [=================================] - 0s 3us/step\n",
            "Downloading data from http://fashion-mnist.s3-website.eu-central-1.amazonaws.com/train-images-idx3-ubyte.gz\n",
            "26427392/26421880 [==============================] - 2s 0us/step\n",
            "Downloading data from http://fashion-mnist.s3-website.eu-central-1.amazonaws.com/t10k-labels-idx1-ubyte.gz\n",
            "8192/5148 [===============================================] - 0s 0us/step\n",
            "Downloading data from http://fashion-mnist.s3-website.eu-central-1.amazonaws.com/t10k-images-idx3-ubyte.gz\n",
            "4423680/4422102 [==============================] - 1s 0us/step\n"
          ],
          "name": "stdout"
        }
      ]
    },
    {
      "metadata": {
        "id": "fYB5YT1Wlw1E",
        "colab_type": "text"
      },
      "cell_type": "markdown",
      "source": [
        "Импортируем всякое  - объект модели, объекты для слоёв, оптимизатор, коллбэки, утилиты."
      ]
    },
    {
      "metadata": {
        "id": "C5MqjLRzlw_W",
        "colab_type": "code",
        "colab": {}
      },
      "cell_type": "code",
      "source": [
        "from keras.models import Sequential\n",
        "from keras.layers import Conv2D\n",
        "from keras.layers import MaxPooling2D\n",
        "from keras.layers import Flatten\n",
        "from keras.layers import Dense\n",
        "\n",
        "from keras.optimizers import SGD\n",
        "\n",
        "from keras.callbacks import TerminateOnNaN, ModelCheckpoint\n",
        "\n",
        "from keras.utils.np_utils import to_categorical\n",
        "\n",
        "from sklearn.model_selection import train_test_split\n",
        "\n",
        "import tensorflow as tf\n"
      ],
      "execution_count": 0,
      "outputs": []
    },
    {
      "metadata": {
        "id": "fYTVzN6-lrzL",
        "colab_type": "text"
      },
      "cell_type": "markdown",
      "source": [
        "Функция для расписания скорости градиентного спуска по эпохам(понадобится на следующей неделе)"
      ]
    },
    {
      "metadata": {
        "id": "NpIGAl5vlt8O",
        "colab_type": "code",
        "colab": {}
      },
      "cell_type": "code",
      "source": [
        "def step_decay(epoch):\n",
        "    initial_lrate = 0.01\n",
        "    drop = 0.5\n",
        "    epochs_drop = 10.0\n",
        "    lrate = initial_lrate * np.power(drop, np.floor((1+epoch)/epochs_drop))\n",
        "    return lrate\n"
      ],
      "execution_count": 0,
      "outputs": []
    },
    {
      "metadata": {
        "id": "UMjZ75ULrGm8",
        "colab_type": "text"
      },
      "cell_type": "markdown",
      "source": [
        "Сам градиентный спуск:"
      ]
    },
    {
      "metadata": {
        "id": "Vg8WpNBAqjat",
        "colab_type": "code",
        "outputId": "c10a32b3-3f3c-459d-d425-1ecb82013e3b",
        "colab": {
          "base_uri": "https://localhost:8080/",
          "height": 91
        }
      },
      "cell_type": "code",
      "source": [
        "\n",
        "opt = SGD(lr = 0.001)\n"
      ],
      "execution_count": 0,
      "outputs": [
        {
          "output_type": "stream",
          "text": [
            "WARNING:tensorflow:From /usr/local/lib/python3.6/dist-packages/tensorflow/python/framework/op_def_library.py:263: colocate_with (from tensorflow.python.framework.ops) is deprecated and will be removed in a future version.\n",
            "Instructions for updating:\n",
            "Colocations handled automatically by placer.\n"
          ],
          "name": "stdout"
        }
      ]
    },
    {
      "metadata": {
        "id": "eVvuE5XPlsYx",
        "colab_type": "text"
      },
      "cell_type": "markdown",
      "source": [
        "Описание модели:"
      ]
    },
    {
      "metadata": {
        "id": "gjNj5I4nrKGU",
        "colab_type": "code",
        "colab": {}
      },
      "cell_type": "code",
      "source": [
        "model = Sequential()\n",
        "#Layer 1\n",
        "#Conv Layer 1\n",
        "model.add(Conv2D(filters = 6, \n",
        "                 kernel_size = 5, \n",
        "                 strides = 1, \n",
        "                 activation = 'relu', \n",
        "                 input_shape = (32,32,1)))\n",
        "#Pooling layer 1\n",
        "model.add(MaxPooling2D(pool_size = 2, strides = 2))\n",
        "#Layer 2\n",
        "#Conv Layer 2\n",
        "model.add(Conv2D(filters = 16, \n",
        "                 kernel_size = 5,\n",
        "                 strides = 1,\n",
        "                 activation = 'relu',\n",
        "                 input_shape = (14,14,6)))\n",
        "#Pooling Layer 2\n",
        "model.add(MaxPooling2D(pool_size = 2, strides = 2))\n",
        "#Flatten\n",
        "model.add(Flatten())\n",
        "#Layer 3\n",
        "#Fully connected layer 1\n",
        "model.add(Dense(units = 120, activation = 'relu'))\n",
        "#Layer 4\n",
        "#Fully connected layer 2\n",
        "model.add(Dense(units = 84, activation = 'relu'))\n",
        "#Layer 5\n",
        "#Output Layer\n",
        "model.add(Dense(units = 10, activation = 'softmax'))\n",
        "model.compile(optimizer = opt, loss = 'categorical_crossentropy', metrics = ['accuracy'])\n",
        "\n"
      ],
      "execution_count": 0,
      "outputs": []
    },
    {
      "metadata": {
        "id": "zZCw2i9nrRTc",
        "colab_type": "text"
      },
      "cell_type": "markdown",
      "source": [
        "Подготовка данных под модель."
      ]
    },
    {
      "metadata": {
        "id": "ENeYX92MrRep",
        "colab_type": "code",
        "colab": {}
      },
      "cell_type": "code",
      "source": [
        "\n",
        "x_train = x_train.reshape(60000, 28, 28,1)\n",
        "\n",
        "x_test = x_test.reshape(10000, 28, 28, 1)\n",
        "\n",
        "x_test_padded = []\n",
        "for img in x_test:\n",
        "    img = np.pad(img,((2,2),(2,2),(0,0)), 'constant')\n",
        "    x_test_padded.append(img)\n",
        "\n",
        "x_test_padded = np.stack(x_test_padded)\n",
        "\n",
        "x_train_padded = []\n",
        "for img in x_train:\n",
        "    img = np.pad(img,((2,2),(2,2),(0,0)), 'constant')\n",
        "    x_train_padded.append(img)\n",
        "\n",
        "x_train_padded = np.stack(x_train_padded)\n",
        "\n",
        "y_train = to_categorical(y_train)\n",
        "\n",
        "y_test = to_categorical(y_test)\n"
      ],
      "execution_count": 0,
      "outputs": []
    },
    {
      "metadata": {
        "id": "9FMwKrYHsh25",
        "colab_type": "text"
      },
      "cell_type": "markdown",
      "source": [
        "Объявление коллбэков:"
      ]
    },
    {
      "metadata": {
        "id": "zDti2yTAalVw",
        "colab_type": "code",
        "colab": {}
      },
      "cell_type": "code",
      "source": [
        "\n",
        "callbacks = [\n",
        "    TerminateOnNaN(), ModelCheckpoint('fashion_lenet.hdf5', verbose=1,monitor='val_loss', save_best_only=True),\n",
        "   # LearningRateScheduler(step_decay)\n",
        "]\n"
      ],
      "execution_count": 0,
      "outputs": []
    },
    {
      "metadata": {
        "id": "OSjk0xpRslzz",
        "colab_type": "text"
      },
      "cell_type": "markdown",
      "source": [
        "Обучение:"
      ]
    },
    {
      "metadata": {
        "id": "VsYt8WAeapOF",
        "colab_type": "code",
        "outputId": "2a62eb2d-9440-4b96-fd1f-0f771ccc43d3",
        "colab": {
          "base_uri": "https://localhost:8080/",
          "height": 216
        }
      },
      "cell_type": "code",
      "source": [
        "\n",
        "history = model.fit(x_train_padded,y_train, steps_per_epoch=128, epochs = 50, shuffle=True, validation_data=(x_test_padded,y_test), validation_steps=32, callbacks=callbacks)\n"
      ],
      "execution_count": 0,
      "outputs": [
        {
          "output_type": "stream",
          "text": [
            "WARNING:tensorflow:From /usr/local/lib/python3.6/dist-packages/tensorflow/python/ops/math_ops.py:3066: to_int32 (from tensorflow.python.ops.math_ops) is deprecated and will be removed in a future version.\n",
            "Instructions for updating:\n",
            "Use tf.cast instead.\n",
            "Train on 60000 samples, validate on 10000 samples\n",
            "Epoch 1/50\n",
            "128/128 [==============================] - 94s 734ms/step - loss: 5.6265 - acc: 0.4379 - val_loss: 1.0771 - val_acc: 0.6543\n",
            "\n",
            "Epoch 00001: val_loss improved from inf to 1.07706, saving model to fashion_lenet.hdf5\n",
            "Epoch 2/50\n",
            " 11/128 [=>............................] - ETA: 1:17 - loss: 1.0276 - acc: 0.6658"
          ],
          "name": "stdout"
        }
      ]
    },
    {
      "metadata": {
        "id": "DmqGan86soWh",
        "colab_type": "text"
      },
      "cell_type": "markdown",
      "source": [
        "История обучения:"
      ]
    },
    {
      "metadata": {
        "id": "Eo9-JXnuaqre",
        "colab_type": "code",
        "colab": {}
      },
      "cell_type": "code",
      "source": [
        "\n",
        "history.history.keys()\n",
        "\n",
        "import matplotlib.pyplot as plt\n",
        "%matplotlib inline\n",
        "\n",
        "plt.plot(history.history['acc'], c='blue')\n",
        "plt.plot(history.history['val_acc'], c='green')\n",
        "\n",
        "plt.plot(history.history['loss'][100:], c='blue')\n",
        "plt.plot(history.history['val_loss'][100:], c='green')\n",
        "\n"
      ],
      "execution_count": 0,
      "outputs": []
    }
  ]
}